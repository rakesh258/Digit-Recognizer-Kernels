{
  "cells": [
    {
      "metadata": {
        "_uuid": "8f2839f25d086af736a60e9eeb907d3b93b6e0e5",
        "_cell_guid": "b1076dfc-b9ad-4769-8c92-a6c4dae69d19",
        "trusted": true
      },
      "cell_type": "code",
      "source": "# This Python 3 environment comes with many helpful analytics libraries installed\n# It is defined by the kaggle/python docker image: https://github.com/kaggle/docker-python\n# For example, here's several helpful packages to load in \n\nimport numpy as np # linear algebra\nimport pandas as pd # data processing, CSV file I/O (e.g. pd.read_csv)\n\nfrom keras.models import Sequential\nfrom keras.layers import Dense\nfrom keras.optimizers import SGD\nimport keras.utils\nfrom keras import utils as np_utils\nfrom keras.utils.np_utils import to_categorical\nfrom sklearn.model_selection import train_test_split\n# Input data files are available in the \"../input/\" directory.\n# For example, running this (by clicking run or pressing Shift+Enter) will list the files in the input directory\n\nimport os\nprint(os.listdir(\"../input\"))\n\n# Any results you write to the current directory are saved as output.",
      "execution_count": 36,
      "outputs": [
        {
          "output_type": "stream",
          "text": "['train.csv', 'sample_submission.csv', 'test.csv']\n",
          "name": "stdout"
        }
      ]
    },
    {
      "metadata": {
        "_cell_guid": "79c7e3d0-c299-4dcb-8224-4455121ee9b0",
        "_uuid": "d629ff2d2480ee46fbb7e2d37f6b5fab8052498a",
        "trusted": true,
        "collapsed": true
      },
      "cell_type": "code",
      "source": "data = pd.read_csv(\"../input/train.csv\")\ntest_data = pd.read_csv(\"../input/test.csv\")\n",
      "execution_count": 51,
      "outputs": []
    },
    {
      "metadata": {
        "trusted": true,
        "_uuid": "9f3b4cb70bbb4a1a49a5f8b44375e83584bed873",
        "collapsed": true
      },
      "cell_type": "code",
      "source": "X=np.array(data)\nY=data.label\nX.shape\nshape = 784",
      "execution_count": 52,
      "outputs": []
    },
    {
      "metadata": {
        "trusted": true,
        "_uuid": "d1d95107dbcda190916fc690d2bd6f2a4d41afae",
        "collapsed": true
      },
      "cell_type": "code",
      "source": "x=data.iloc[:,1:].values\nx=x.astype(np.float)\nx=np.multiply(x,1.0/255.0)\ny=to_categorical(Y)\nx_train,x_test, y_train, y_test = train_test_split(x,y,test_size=0.1,random_state=24)",
      "execution_count": 53,
      "outputs": []
    },
    {
      "metadata": {
        "trusted": true,
        "_uuid": "83f03749f6257a50e02d220632487fe65d6c0e1a"
      },
      "cell_type": "code",
      "source": "model=Sequential()\nmodel.add(Dense(784, activation = 'relu', input_shape=(shape,)))\nmodel.add(Dense(216,activation='relu'))\nmodel.add(Dense(10, activation = 'softmax'))\nmodel.summary()",
      "execution_count": 54,
      "outputs": [
        {
          "output_type": "stream",
          "text": "_________________________________________________________________\nLayer (type)                 Output Shape              Param #   \n=================================================================\ndense_10 (Dense)             (None, 784)               615440    \n_________________________________________________________________\ndense_11 (Dense)             (None, 216)               169560    \n_________________________________________________________________\ndense_12 (Dense)             (None, 10)                2170      \n=================================================================\nTotal params: 787,170\nTrainable params: 787,170\nNon-trainable params: 0\n_________________________________________________________________\n",
          "name": "stdout"
        }
      ]
    },
    {
      "metadata": {
        "trusted": true,
        "_uuid": "a717a2abb55d1da6b0efe1143ff31c632a6098ce",
        "collapsed": true
      },
      "cell_type": "code",
      "source": "model.compile(loss = \"categorical_crossentropy\", optimizer=SGD())\n",
      "execution_count": 55,
      "outputs": []
    },
    {
      "metadata": {
        "trusted": true,
        "_uuid": "b800d2fa08490752a8001b5e81c14542efaf6fa9"
      },
      "cell_type": "code",
      "source": "history = model.fit(x_train, y_train, batch_size=20, epochs=80, verbose=1,\n           validation_data=(x_test, y_test))",
      "execution_count": 56,
      "outputs": [
        {
          "output_type": "stream",
          "text": "Train on 37800 samples, validate on 4200 samples\nEpoch 1/80\n37800/37800 [==============================] - 8s 223us/step - loss: 0.5333 - val_loss: 0.2926\nEpoch 2/80\n37800/37800 [==============================] - 8s 215us/step - loss: 0.2606 - val_loss: 0.2291\nEpoch 3/80\n37800/37800 [==============================] - 8s 216us/step - loss: 0.2073 - val_loss: 0.1881\nEpoch 4/80\n37800/37800 [==============================] - 8s 223us/step - loss: 0.1726 - val_loss: 0.1661\nEpoch 5/80\n37800/37800 [==============================] - 8s 217us/step - loss: 0.1460 - val_loss: 0.1498\nEpoch 6/80\n37800/37800 [==============================] - 8s 217us/step - loss: 0.1268 - val_loss: 0.1294\nEpoch 7/80\n37800/37800 [==============================] - 8s 221us/step - loss: 0.1106 - val_loss: 0.1222\nEpoch 8/80\n37800/37800 [==============================] - 8s 220us/step - loss: 0.0978 - val_loss: 0.1120\nEpoch 9/80\n37800/37800 [==============================] - 8s 220us/step - loss: 0.0870 - val_loss: 0.1087\nEpoch 10/80\n37800/37800 [==============================] - 8s 220us/step - loss: 0.0776 - val_loss: 0.1019\nEpoch 11/80\n37800/37800 [==============================] - 8s 220us/step - loss: 0.0692 - val_loss: 0.0946\nEpoch 12/80\n37800/37800 [==============================] - 8s 219us/step - loss: 0.0626 - val_loss: 0.0907\nEpoch 13/80\n37800/37800 [==============================] - 8s 219us/step - loss: 0.0561 - val_loss: 0.0924\nEpoch 14/80\n37800/37800 [==============================] - 9s 229us/step - loss: 0.0506 - val_loss: 0.0822\nEpoch 15/80\n37800/37800 [==============================] - 8s 220us/step - loss: 0.0462 - val_loss: 0.0799\nEpoch 16/80\n37800/37800 [==============================] - 8s 219us/step - loss: 0.0417 - val_loss: 0.0796\nEpoch 17/80\n37800/37800 [==============================] - 8s 220us/step - loss: 0.0378 - val_loss: 0.0765\nEpoch 18/80\n37800/37800 [==============================] - 8s 221us/step - loss: 0.0346 - val_loss: 0.0768\nEpoch 19/80\n37800/37800 [==============================] - 8s 219us/step - loss: 0.0316 - val_loss: 0.0755\nEpoch 20/80\n37800/37800 [==============================] - 8s 218us/step - loss: 0.0286 - val_loss: 0.0720\nEpoch 21/80\n37800/37800 [==============================] - 8s 220us/step - loss: 0.0262 - val_loss: 0.0734\nEpoch 22/80\n37800/37800 [==============================] - 8s 218us/step - loss: 0.0238 - val_loss: 0.0711\nEpoch 23/80\n37800/37800 [==============================] - 10s 271us/step - loss: 0.0219 - val_loss: 0.0714\nEpoch 24/80\n37800/37800 [==============================] - 8s 220us/step - loss: 0.0199 - val_loss: 0.0680\nEpoch 25/80\n37800/37800 [==============================] - 8s 220us/step - loss: 0.0183 - val_loss: 0.0708\nEpoch 26/80\n37800/37800 [==============================] - 8s 220us/step - loss: 0.0168 - val_loss: 0.0697\nEpoch 27/80\n37800/37800 [==============================] - 8s 220us/step - loss: 0.0154 - val_loss: 0.0686\nEpoch 28/80\n37800/37800 [==============================] - 8s 222us/step - loss: 0.0145 - val_loss: 0.0681\nEpoch 29/80\n37800/37800 [==============================] - 8s 219us/step - loss: 0.0131 - val_loss: 0.0689\nEpoch 30/80\n37800/37800 [==============================] - 8s 219us/step - loss: 0.0122 - val_loss: 0.0700\nEpoch 31/80\n37800/37800 [==============================] - 8s 220us/step - loss: 0.0113 - val_loss: 0.0673\nEpoch 32/80\n37800/37800 [==============================] - 8s 220us/step - loss: 0.0105 - val_loss: 0.0691\nEpoch 33/80\n37800/37800 [==============================] - 8s 220us/step - loss: 0.0098 - val_loss: 0.0662\nEpoch 34/80\n37800/37800 [==============================] - 8s 220us/step - loss: 0.0092 - val_loss: 0.0685\nEpoch 35/80\n37800/37800 [==============================] - 8s 221us/step - loss: 0.0085 - val_loss: 0.0682\nEpoch 36/80\n37800/37800 [==============================] - 8s 219us/step - loss: 0.0079 - val_loss: 0.0674\nEpoch 37/80\n37800/37800 [==============================] - 8s 219us/step - loss: 0.0075 - val_loss: 0.0671\nEpoch 38/80\n37800/37800 [==============================] - 8s 220us/step - loss: 0.0070 - val_loss: 0.0667\nEpoch 39/80\n37800/37800 [==============================] - 8s 221us/step - loss: 0.0066 - val_loss: 0.0668\nEpoch 40/80\n37800/37800 [==============================] - 8s 224us/step - loss: 0.0062 - val_loss: 0.0667\nEpoch 41/80\n37800/37800 [==============================] - 8s 221us/step - loss: 0.0058 - val_loss: 0.0681\nEpoch 42/80\n37800/37800 [==============================] - 8s 221us/step - loss: 0.0055 - val_loss: 0.0681\nEpoch 43/80\n37800/37800 [==============================] - 8s 221us/step - loss: 0.0052 - val_loss: 0.0675\nEpoch 44/80\n37800/37800 [==============================] - 8s 219us/step - loss: 0.0049 - val_loss: 0.0679\nEpoch 45/80\n37800/37800 [==============================] - 8s 220us/step - loss: 0.0047 - val_loss: 0.0678\nEpoch 46/80\n37800/37800 [==============================] - 8s 220us/step - loss: 0.0044 - val_loss: 0.0664\nEpoch 47/80\n37800/37800 [==============================] - 8s 221us/step - loss: 0.0042 - val_loss: 0.0674\nEpoch 48/80\n37800/37800 [==============================] - 8s 220us/step - loss: 0.0041 - val_loss: 0.0677\nEpoch 49/80\n37800/37800 [==============================] - 8s 219us/step - loss: 0.0038 - val_loss: 0.0676\nEpoch 50/80\n37800/37800 [==============================] - 8s 222us/step - loss: 0.0037 - val_loss: 0.0685\nEpoch 51/80\n37800/37800 [==============================] - 8s 219us/step - loss: 0.0036 - val_loss: 0.0686\nEpoch 52/80\n37800/37800 [==============================] - 8s 219us/step - loss: 0.0034 - val_loss: 0.0680\nEpoch 53/80\n37800/37800 [==============================] - 8s 220us/step - loss: 0.0033 - val_loss: 0.0688\nEpoch 54/80\n37800/37800 [==============================] - 8s 220us/step - loss: 0.0032 - val_loss: 0.0693\nEpoch 55/80\n37800/37800 [==============================] - 8s 220us/step - loss: 0.0031 - val_loss: 0.0687\nEpoch 56/80\n37800/37800 [==============================] - 8s 221us/step - loss: 0.0029 - val_loss: 0.0692\nEpoch 57/80\n37800/37800 [==============================] - 8s 221us/step - loss: 0.0028 - val_loss: 0.0687\nEpoch 58/80\n37800/37800 [==============================] - 8s 219us/step - loss: 0.0027 - val_loss: 0.0689\nEpoch 59/80\n37800/37800 [==============================] - 8s 219us/step - loss: 0.0026 - val_loss: 0.0692\nEpoch 60/80\n37800/37800 [==============================] - 8s 219us/step - loss: 0.0026 - val_loss: 0.0689\nEpoch 61/80\n37800/37800 [==============================] - 8s 219us/step - loss: 0.0025 - val_loss: 0.0693\nEpoch 62/80\n37800/37800 [==============================] - 8s 219us/step - loss: 0.0024 - val_loss: 0.0689\nEpoch 63/80\n37800/37800 [==============================] - 8s 218us/step - loss: 0.0023 - val_loss: 0.0689\nEpoch 64/80\n37800/37800 [==============================] - 8s 221us/step - loss: 0.0023 - val_loss: 0.0695\nEpoch 65/80\n37800/37800 [==============================] - 8s 219us/step - loss: 0.0022 - val_loss: 0.0694\nEpoch 66/80\n37800/37800 [==============================] - 8s 218us/step - loss: 0.0021 - val_loss: 0.0702\nEpoch 67/80\n37800/37800 [==============================] - 8s 219us/step - loss: 0.0021 - val_loss: 0.0696\nEpoch 68/80\n37800/37800 [==============================] - 8s 219us/step - loss: 0.0020 - val_loss: 0.0697\nEpoch 69/80\n37800/37800 [==============================] - 8s 220us/step - loss: 0.0020 - val_loss: 0.0693\nEpoch 70/80\n37800/37800 [==============================] - 8s 218us/step - loss: 0.0019 - val_loss: 0.0697\nEpoch 71/80\n37800/37800 [==============================] - 8s 221us/step - loss: 0.0019 - val_loss: 0.0711\nEpoch 72/80\n37800/37800 [==============================] - 8s 219us/step - loss: 0.0018 - val_loss: 0.0701\nEpoch 73/80\n37800/37800 [==============================] - 8s 218us/step - loss: 0.0018 - val_loss: 0.0698\nEpoch 74/80\n37800/37800 [==============================] - 8s 219us/step - loss: 0.0017 - val_loss: 0.0701\nEpoch 75/80\n37800/37800 [==============================] - 8s 220us/step - loss: 0.0017 - val_loss: 0.0709\nEpoch 76/80\n37800/37800 [==============================] - 8s 219us/step - loss: 0.0017 - val_loss: 0.0713\nEpoch 77/80\n",
          "name": "stdout"
        },
        {
          "output_type": "stream",
          "text": "37800/37800 [==============================] - 8s 224us/step - loss: 0.0016 - val_loss: 0.0706\nEpoch 78/80\n37800/37800 [==============================] - 8s 220us/step - loss: 0.0016 - val_loss: 0.0708\nEpoch 79/80\n37800/37800 [==============================] - 8s 220us/step - loss: 0.0015 - val_loss: 0.0707\nEpoch 80/80\n37800/37800 [==============================] - 8s 219us/step - loss: 0.0015 - val_loss: 0.0710\n",
          "name": "stdout"
        }
      ]
    },
    {
      "metadata": {
        "trusted": true,
        "_uuid": "ba7c46de5ff24afd55e87e5b97efe064330edf1d"
      },
      "cell_type": "code",
      "source": "out_train = model.evaluate(x_train, y_train)\nout_val = model.evaluate(x_test, y_test)\n",
      "execution_count": 58,
      "outputs": [
        {
          "output_type": "stream",
          "text": "37800/37800 [==============================] - 2s 55us/step\n4200/4200 [==============================] - 0s 55us/step\n",
          "name": "stdout"
        }
      ]
    },
    {
      "metadata": {
        "trusted": true,
        "_uuid": "0718bcb8ba939bf53ab23112d3c8e28cfef9b85f"
      },
      "cell_type": "code",
      "source": "print(out_train,out_val)",
      "execution_count": 59,
      "outputs": [
        {
          "output_type": "stream",
          "text": "0.0014291233363239188 0.0710364580475947\n",
          "name": "stdout"
        }
      ]
    },
    {
      "metadata": {
        "trusted": true,
        "_uuid": "5bca7cd0fcae29e0aa3e2478954a5a1ffbfea943",
        "collapsed": true
      },
      "cell_type": "code",
      "source": "x_test = (test_data.iloc[:,:].values).astype(np.float)\nx_test = np.multiply(x_test,1.0/255.0)\nout_test=model.predict(x_test)",
      "execution_count": 60,
      "outputs": []
    },
    {
      "metadata": {
        "trusted": true,
        "_uuid": "acb6d0b70539f28954492d1fda7987e538049337",
        "collapsed": true
      },
      "cell_type": "code",
      "source": "out1 = out_test.argmax(axis=1)\nsubmissions = pd.DataFrame({\"ImageId\":list(range(1,len(out1)+1)),\"Label\":out1})\nsubmissions.to_csv(\"submissions.csv\", index=False, header=True)\n\n",
      "execution_count": 61,
      "outputs": []
    },
    {
      "metadata": {
        "trusted": true,
        "collapsed": true,
        "_uuid": "a6ea6b76b9e6c301b5edaf26cbb9bad92aa876dd"
      },
      "cell_type": "code",
      "source": "",
      "execution_count": null,
      "outputs": []
    }
  ],
  "metadata": {
    "kernelspec": {
      "display_name": "Python 3",
      "language": "python",
      "name": "python3"
    },
    "language_info": {
      "name": "python",
      "version": "3.6.4",
      "mimetype": "text/x-python",
      "codemirror_mode": {
        "name": "ipython",
        "version": 3
      },
      "pygments_lexer": "ipython3",
      "nbconvert_exporter": "python",
      "file_extension": ".py"
    }
  },
  "nbformat": 4,
  "nbformat_minor": 1
}