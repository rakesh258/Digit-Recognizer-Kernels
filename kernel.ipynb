{
  "cells": [
    {
      "metadata": {
        "_uuid": "8f2839f25d086af736a60e9eeb907d3b93b6e0e5",
        "_cell_guid": "b1076dfc-b9ad-4769-8c92-a6c4dae69d19",
        "trusted": true
      },
      "cell_type": "code",
      "source": "# This Python 3 environment comes with many helpful analytics libraries installed\n# It is defined by the kaggle/python docker image: https://github.com/kaggle/docker-python\n# For example, here's several helpful packages to load in \n\nimport numpy as np # linear algebra\nimport pandas as pd # data processing, CSV file I/O (e.g. pd.read_csv)\n\nfrom keras.models import Sequential\nfrom keras.layers import Dense\nfrom keras.optimizers import SGD\nimport keras.utils\nfrom keras import utils as np_utils\nfrom keras.utils.np_utils import to_categorical\nfrom sklearn.model_selection import train_test_split\n# Input data files are available in the \"../input/\" directory.\n# For example, running this (by clicking run or pressing Shift+Enter) will list the files in the input directory\n\nimport os\nprint(os.listdir(\"../input\"))\n\n# Any results you write to the current directory are saved as output.",
      "execution_count": 1,
      "outputs": [
        {
          "output_type": "stream",
          "text": "/opt/conda/lib/python3.6/site-packages/h5py/__init__.py:36: FutureWarning: Conversion of the second argument of issubdtype from `float` to `np.floating` is deprecated. In future, it will be treated as `np.float64 == np.dtype(float).type`.\n  from ._conv import register_converters as _register_converters\nUsing TensorFlow backend.\n",
          "name": "stderr"
        },
        {
          "output_type": "stream",
          "text": "['train.csv', 'sample_submission.csv', 'test.csv']\n",
          "name": "stdout"
        }
      ]
    },
    {
      "metadata": {
        "_cell_guid": "79c7e3d0-c299-4dcb-8224-4455121ee9b0",
        "_uuid": "d629ff2d2480ee46fbb7e2d37f6b5fab8052498a",
        "trusted": true,
        "collapsed": true
      },
      "cell_type": "code",
      "source": "data = pd.read_csv(\"../input/train.csv\")\ntest_data = pd.read_csv(\"../input/test.csv\")\n",
      "execution_count": 2,
      "outputs": []
    },
    {
      "metadata": {
        "trusted": true,
        "_uuid": "9f3b4cb70bbb4a1a49a5f8b44375e83584bed873",
        "collapsed": true
      },
      "cell_type": "code",
      "source": "X=np.array(data)\nY=data.label\nX.shape\nshape = 784",
      "execution_count": 8,
      "outputs": []
    },
    {
      "metadata": {
        "trusted": true,
        "_uuid": "d1d95107dbcda190916fc690d2bd6f2a4d41afae",
        "collapsed": true
      },
      "cell_type": "code",
      "source": "x=data.iloc[:,1:].values\nx=x.astype(np.float)\nx=np.multiply(x,1.0/255.0)\ny=to_categorical(Y)\nx_train,x_test, y_train, y_test = train_test_split(x,y,test_size=0.1,random_state=24)",
      "execution_count": 9,
      "outputs": []
    },
    {
      "metadata": {
        "trusted": true,
        "_uuid": "83f03749f6257a50e02d220632487fe65d6c0e1a"
      },
      "cell_type": "code",
      "source": "model=Sequential()\nmodel.add(Dense(784, activation = 'relu', input_shape=(shape,)))\n\nmodel.add(Dense(10, activation = 'softmax'))\nmodel.summary()",
      "execution_count": 10,
      "outputs": [
        {
          "output_type": "stream",
          "text": "_________________________________________________________________\nLayer (type)                 Output Shape              Param #   \n=================================================================\ndense_3 (Dense)              (None, 784)               615440    \n_________________________________________________________________\ndense_4 (Dense)              (None, 10)                7850      \n=================================================================\nTotal params: 623,290\nTrainable params: 623,290\nNon-trainable params: 0\n_________________________________________________________________\n",
          "name": "stdout"
        }
      ]
    },
    {
      "metadata": {
        "trusted": true,
        "_uuid": "a717a2abb55d1da6b0efe1143ff31c632a6098ce",
        "collapsed": true
      },
      "cell_type": "code",
      "source": "model.compile(loss = \"categorical_crossentropy\", optimizer=SGD())\n",
      "execution_count": 11,
      "outputs": []
    },
    {
      "metadata": {
        "trusted": true,
        "_uuid": "b800d2fa08490752a8001b5e81c14542efaf6fa9"
      },
      "cell_type": "code",
      "source": "history = model.fit(x_train, y_train, batch_size=200, epochs=10, verbose=1,\n           validation_data=(x_test, y_test))",
      "execution_count": null,
      "outputs": []
    }
  ],
  "metadata": {
    "kernelspec": {
      "display_name": "Python 3",
      "language": "python",
      "name": "python3"
    },
    "language_info": {
      "name": "python",
      "version": "3.6.4",
      "mimetype": "text/x-python",
      "codemirror_mode": {
        "name": "ipython",
        "version": 3
      },
      "pygments_lexer": "ipython3",
      "nbconvert_exporter": "python",
      "file_extension": ".py"
    }
  },
  "nbformat": 4,
  "nbformat_minor": 1
}