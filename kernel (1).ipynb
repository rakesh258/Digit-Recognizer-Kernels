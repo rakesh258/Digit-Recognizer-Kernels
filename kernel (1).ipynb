{
 "cells": [
  {
   "cell_type": "code",
   "execution_count": 1,
   "metadata": {
    "_cell_guid": "b1076dfc-b9ad-4769-8c92-a6c4dae69d19",
    "_uuid": "8f2839f25d086af736a60e9eeb907d3b93b6e0e5"
   },
   "outputs": [
    {
     "name": "stderr",
     "output_type": "stream",
     "text": [
      "/opt/conda/lib/python3.6/site-packages/h5py/__init__.py:36: FutureWarning: Conversion of the second argument of issubdtype from `float` to `np.floating` is deprecated. In future, it will be treated as `np.float64 == np.dtype(float).type`.\n",
      "  from ._conv import register_converters as _register_converters\n",
      "Using TensorFlow backend.\n"
     ]
    },
    {
     "name": "stdout",
     "output_type": "stream",
     "text": [
      "['train.csv', 'sample_submission.csv', 'test.csv']\n"
     ]
    }
   ],
   "source": [
    "# This Python 3 environment comes with many helpful analytics libraries installed\n",
    "# It is defined by the kaggle/python docker image: https://github.com/kaggle/docker-python\n",
    "# For example, here's several helpful packages to load in \n",
    "\n",
    "import numpy as np # linear algebra\n",
    "import pandas as pd # data processing, CSV file I/O (e.g. pd.read_csv)\n",
    "\n",
    "from keras.models import Sequential\n",
    "from keras.layers import Dense\n",
    "from keras.optimizers import SGD\n",
    "import keras.utils\n",
    "from keras import utils as np_utils\n",
    "from keras.utils.np_utils import to_categorical\n",
    "from sklearn.model_selection import train_test_split\n",
    "# Input data files are available in the \"../input/\" directory.\n",
    "# For example, running this (by clicking run or pressing Shift+Enter) will list the files in the input directory\n",
    "\n",
    "import os\n",
    "print(os.listdir(\"../input\"))\n",
    "\n",
    "# Any results you write to the current directory are saved as output."
   ]
  },
  {
   "cell_type": "code",
   "execution_count": 2,
   "metadata": {
    "_cell_guid": "79c7e3d0-c299-4dcb-8224-4455121ee9b0",
    "_uuid": "d629ff2d2480ee46fbb7e2d37f6b5fab8052498a",
    "collapsed": true
   },
   "outputs": [],
   "source": [
    "data = pd.read_csv(\"../input/train.csv\")\n",
    "test_data = pd.read_csv(\"../input/test.csv\")\n"
   ]
  },
  {
   "cell_type": "code",
   "execution_count": 8,
   "metadata": {
    "_uuid": "9f3b4cb70bbb4a1a49a5f8b44375e83584bed873",
    "collapsed": true
   },
   "outputs": [],
   "source": [
    "X=np.array(data)\n",
    "Y=data.label\n",
    "X.shape\n",
    "shape = 784"
   ]
  },
  {
   "cell_type": "code",
   "execution_count": 9,
   "metadata": {
    "_uuid": "d1d95107dbcda190916fc690d2bd6f2a4d41afae",
    "collapsed": true
   },
   "outputs": [],
   "source": [
    "x=data.iloc[:,1:].values\n",
    "x=x.astype(np.float)\n",
    "x=np.multiply(x,1.0/255.0)\n",
    "y=to_categorical(Y)\n",
    "x_train,x_test, y_train, y_test = train_test_split(x,y,test_size=0.1,random_state=24)"
   ]
  },
  {
   "cell_type": "code",
   "execution_count": 10,
   "metadata": {
    "_uuid": "83f03749f6257a50e02d220632487fe65d6c0e1a"
   },
   "outputs": [
    {
     "name": "stdout",
     "output_type": "stream",
     "text": [
      "_________________________________________________________________\n",
      "Layer (type)                 Output Shape              Param #   \n",
      "=================================================================\n",
      "dense_3 (Dense)              (None, 784)               615440    \n",
      "_________________________________________________________________\n",
      "dense_4 (Dense)              (None, 10)                7850      \n",
      "=================================================================\n",
      "Total params: 623,290\n",
      "Trainable params: 623,290\n",
      "Non-trainable params: 0\n",
      "_________________________________________________________________\n"
     ]
    }
   ],
   "source": [
    "model=Sequential()\n",
    "model.add(Dense(784, activation = 'relu', input_shape=(shape,)))\n",
    "\n",
    "model.add(Dense(10, activation = 'softmax'))\n",
    "model.summary()"
   ]
  },
  {
   "cell_type": "code",
   "execution_count": 11,
   "metadata": {
    "_uuid": "a717a2abb55d1da6b0efe1143ff31c632a6098ce",
    "collapsed": true
   },
   "outputs": [],
   "source": [
    "model.compile(loss = \"categorical_crossentropy\", optimizer=SGD())\n"
   ]
  },
  {
   "cell_type": "code",
   "execution_count": 12,
   "metadata": {
    "_uuid": "b800d2fa08490752a8001b5e81c14542efaf6fa9"
   },
   "outputs": [
    {
     "name": "stdout",
     "output_type": "stream",
     "text": [
      "Train on 37800 samples, validate on 4200 samples\n",
      "Epoch 1/10\n",
      "37800/37800 [==============================] - 7s 188us/step - loss: 1.5220 - val_loss: 0.9992\n",
      "Epoch 2/10\n",
      "37800/37800 [==============================] - 1s 24us/step - loss: 0.8119 - val_loss: 0.6688\n",
      "Epoch 3/10\n",
      "37800/37800 [==============================] - 1s 25us/step - loss: 0.6061 - val_loss: 0.5438\n",
      "Epoch 4/10\n",
      "37800/37800 [==============================] - 1s 25us/step - loss: 0.5141 - val_loss: 0.4771\n",
      "Epoch 5/10\n",
      "37800/37800 [==============================] - 1s 25us/step - loss: 0.4609 - val_loss: 0.4354\n",
      "Epoch 6/10\n",
      "37800/37800 [==============================] - 1s 25us/step - loss: 0.4255 - val_loss: 0.4064\n",
      "Epoch 7/10\n",
      "37800/37800 [==============================] - 1s 25us/step - loss: 0.4000 - val_loss: 0.3852\n",
      "Epoch 8/10\n",
      "37800/37800 [==============================] - 1s 24us/step - loss: 0.3803 - val_loss: 0.3679\n",
      "Epoch 9/10\n",
      "37800/37800 [==============================] - 1s 24us/step - loss: 0.3646 - val_loss: 0.3544\n",
      "Epoch 10/10\n",
      "37800/37800 [==============================] - 1s 25us/step - loss: 0.3516 - val_loss: 0.3430\n"
     ]
    }
   ],
   "source": [
    "history = model.fit(x_train, y_train, batch_size=200, epochs=10, verbose=1,\n",
    "           validation_data=(x_test, y_test))"
   ]
  },
  {
   "cell_type": "code",
   "execution_count": 14,
   "metadata": {
    "_uuid": "6d0376d2d4c0e4b10024673b829e119058e9c835"
   },
   "outputs": [
    {
     "name": "stdout",
     "output_type": "stream",
     "text": [
      "37800/37800 [==============================] - 2s 53us/step\n",
      "4200/4200 [==============================] - 0s 53us/step\n"
     ]
    }
   ],
   "source": [
    "out_train = model.evaluate(x_train, y_train)\n",
    "out_val = model.evaluate(x_test, y_test)\n"
   ]
  },
  {
   "cell_type": "code",
   "execution_count": null,
   "metadata": {
    "_uuid": "a74d13e95e3223ae657b4d4b2ec1d43ed5980cb0",
    "collapsed": true
   },
   "outputs": [],
   "source": [
    "print(out_train,out_val)"
   ]
  }
 ],
 "metadata": {
  "kernelspec": {
   "display_name": "Python 3",
   "language": "python",
   "name": "python3"
  },
  "language_info": {
   "codemirror_mode": {
    "name": "ipython",
    "version": 3
   },
   "file_extension": ".py",
   "mimetype": "text/x-python",
   "name": "python",
   "nbconvert_exporter": "python",
   "pygments_lexer": "ipython3",
   "version": "3.6.5"
  }
 },
 "nbformat": 4,
 "nbformat_minor": 1
}
